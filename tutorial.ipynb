{
 "cells": [
  {
   "cell_type": "markdown",
   "id": "c4e2fdac",
   "metadata": {},
   "source": [
    "# PAL2 Single Pulsar Continuous Gravitational Wave Analysis Example\n",
    "\n",
    "Nicholas West\n",
    "\n",
    "06/15/2022"
   ]
  },
  {
   "cell_type": "code",
   "execution_count": 2,
   "id": "eb5cc059",
   "metadata": {},
   "outputs": [
    {
     "name": "stdout",
     "output_type": "stream",
     "text": [
      "The line_profiler extension is already loaded. To reload it, use:\n",
      "  %reload_ext line_profiler\n"
     ]
    }
   ],
   "source": [
    "# Imports\n",
    "# All of these requirements can be satisfied by following the installation instructions\n",
    "# in the appendix of my report. Alternatively, follow the installation instructions \n",
    "# in the README for PAL2 on its github\n",
    "\n",
    "from __future__ import division\n",
    "import numpy as np\n",
    "import PAL2\n",
    "from PAL2 import PALmodels\n",
    "from PAL2 import PALutils\n",
    "from PAL2 import PALdatafile\n",
    "from PAL2 import PALInferencePTMCMC as ptmcmc\n",
    "from PAL2 import bayesutils as bu\n",
    "import glob\n",
    "import matplotlib.pyplot as plt\n",
    "from corner import corner\n",
    "from scipy.optimize import brentq\n",
    "\n",
    "%matplotlib inline\n",
    "%config InlineBackend.figure_format = 'retina'\n",
    "%load_ext line_profiler"
   ]
  },
  {
   "cell_type": "code",
   "execution_count": 3,
   "id": "fb63e6dd",
   "metadata": {},
   "outputs": [
    {
     "name": "stdout",
     "output_type": "stream",
     "text": [
      "./J0613_subband_MJD56733\n",
      "['./J0613_subband_MJD56733/par2/J0613-0200_NANOGrav_9yv1-Copy1.gls.par']\n",
      "['./J0613_subband_MJD56733/tim2/guppi_56733_J0613-0200_0002_all_allmed_mow_122f16-Copy1.tim']\n"
     ]
    }
   ],
   "source": [
    "# Loading the data\n",
    "datadir = \"./data\"\n",
    "parFiles = glob.glob(datadir + '/*.par')\n",
    "timFiles = glob.glob(datadir + '/*.tim')\n",
    "print(datadir)\n",
    "print(parFiles)\n",
    "print(timFiles)\n",
    "# sort \n",
    "parFiles.sort()\n",
    "timFiles.sort()"
   ]
  },
  {
   "cell_type": "code",
   "execution_count": 4,
   "id": "bd06a2db",
   "metadata": {},
   "outputs": [
    {
     "name": "stdout",
     "output_type": "stream",
     "text": [
      "\n",
      "./J0613_subband_MJD56733/tim2/guppi_56733_J0613-0200_0002_all_allmed_mow_122f16-Copy1.tim ./J0613_subband_MJD56733/par2/J0613-0200_NANOGrav_9yv1-Copy1.gls.par \n",
      "\n"
     ]
    }
   ],
   "source": [
    "# Create an hdf5 data file from the par and tim files--this is what PAL2 reads\n",
    "h5filename = './data/h5file.hdf5'\n",
    "df = PALdatafile.DataFile(h5filename)\n",
    "# add pulsars to file\n",
    "for p, t in zip(parFiles, timFiles):\n",
    "    print '\\n', t, p, '\\n'\n",
    "    df.addTempoPulsar(p, t, iterations=0)"
   ]
  },
  {
   "cell_type": "code",
   "execution_count": 17,
   "id": "386d4f86",
   "metadata": {},
   "outputs": [
    {
     "name": "stdout",
     "output_type": "stream",
     "text": [
      "WARNING: scikit-sparse note installed, will try scikits.sparse...\n",
      "WARNING: scikits.sparse note installed, will not use sparse matrices\n",
      "/opt/conda/envs/python2/lib/python2.7/site-packages/PAL2-2015.4-py2.7.egg/PAL2/PALdatafile.py:142: H5pyDeprecationWarning: dataset.value has been deprecated. Use dataset[()] instead.\n",
      "  data = datGroup[field].value\n",
      "WARNING: Using seperate Tmax for each pulsar\n",
      "Requested to re-create the Auxiliaries\n",
      "Creating Auxiliaries for J0613-0200\n",
      "5 Free parameters\n",
      "Search Parameters: ['efac-Rcvr1_2_GUPPI', 'jitter_q-Rcvr1_2_GUPPI', 'equad-Rcvr1_2_GUPPI', 'RN-Amplitude', 'RN-spectral-index']\n",
      "Running model with no GWB correlations\n",
      "18779.88692543822 -9.73572600568059\n",
      "[[0, 1, 2, 3, 4], [0], [2], [1], [3, 4]]\n",
      "Engage!\n",
      "Finished 10.00 percent in 137.032947 s Acceptance rate = 0.56297Adding DE jump with weight 50\n",
      "Finished 33.00 percent in 474.037526 s Acceptance rate = 0.576727\n",
      "Run Complete with 1026 effective samples\n"
     ]
    }
   ],
   "source": [
    "# This generates the noise model for the pulsar and saves the relevant files\n",
    "# in the --outDir directory\n",
    "# Params: \n",
    "# --h5file path_to_hdf5_data \n",
    "# --outDir path_to_noise_directory\n",
    "# --nf number_of_frequencies_to_be_searched\n",
    "# --incRed (flag) include red noise parameters\n",
    "# --niter number_of_iterations_in_noise_chain\n",
    "# --incEquad (flag) include EQUAD noise parameter\n",
    "# --incJitterEquad (flag) include jitter EQUAD parameter\n",
    "# --mark6 (flag) using mark6loglikelihood\n",
    "# --pulsar name_of_pulsar\n",
    "!PAL2_run.py --h5File ./data/h5file.hdf5 --outDir ./noise --nf 50 --incRed --niter 100000 --incEqua --incJitterEquad --mark6 --pulsar J0613-0200"
   ]
  },
  {
   "cell_type": "code",
   "execution_count": 18,
   "id": "9610bd35",
   "metadata": {},
   "outputs": [],
   "source": [
    "# I have created this class to keep track of the parameters used in this analysis.\n",
    "# One can change the values here to alter them in most other areas of the analysis below\n",
    "class my_args_class:\n",
    "    def __init__(self):\n",
    "        self.h5file = './data/h5file.hdf5' # subband_hdf5 file\n",
    "        self.noisedir = \"./noise\"# noisedir\n",
    "        self.outdir = \"./outputs\" # output directory (hfcw_analysis)\n",
    "        self.psr = \"J0613-0200\" # pulsar name\n",
    "        self.frqres = 50 # how many frequencies\n",
    "        self.nreal = 50000 # how many simulations\n",
    "        self.run_name = \"test\" # run_name\n",
    "        self.fmin = 8e-5 # min frequency to check\n",
    "        self.fmax = 1e-3 # max frequency to check\n",
    "        \n",
    "fmin = 8e-5\n",
    "fmax = 1e-3"
   ]
  },
  {
   "cell_type": "code",
   "execution_count": 19,
   "id": "c85991e3",
   "metadata": {},
   "outputs": [],
   "source": [
    "args = my_args_class()"
   ]
  },
  {
   "cell_type": "code",
   "execution_count": 20,
   "id": "eab25876",
   "metadata": {},
   "outputs": [],
   "source": [
    "def upperLimitFunc(h, psr, R, fstat_ref, freq, nreal, theta=None, \n",
    "                   phi=None, inc=None, detect=False, dist=None):\n",
    "    \"\"\"\n",
    "    Compute the value of the fstat for a range of parameters, with fixed\n",
    "    amplitude over many realizations.\n",
    "\n",
    "    \"\"\"\n",
    "    Tmaxyr = np.array([(p.toas.max() - p.toas.min())/3.16e7 for p in psr]).max()\n",
    "    count = 0\n",
    "    for ii in range(nreal):\n",
    "\n",
    "        # draw parameter values\n",
    "        gwtheta = np.arccos(np.random.uniform(-1, 1))\n",
    "        gwphi = np.random.uniform(0, 2*np.pi)\n",
    "        gwphase = np.random.uniform(0, 2*np.pi)\n",
    "        gwinc = np.arccos(np.random.uniform(-1, 1))\n",
    "        gwpsi = np.random.uniform(0, np.pi)\n",
    "\n",
    "        \n",
    "        gwmc = 10**np.random.uniform(7, 10)\n",
    "        \n",
    "        # determine distance in order to keep strain fixed\n",
    "        gwdist = 2 * (gwmc*4.9e-6)**(5/3) * (np.pi*freq)**(2/3) / h\n",
    "\n",
    "        # convert back to Mpc\n",
    "        gwdist /= 1.0267e14\n",
    "        \n",
    "        # check for fixed sky location\n",
    "        if theta is not None:\n",
    "            gwtheta = theta\n",
    "        if phi is not None:\n",
    "            gwphi = phi\n",
    "        if inc is not None:\n",
    "            gwinc = inc\n",
    "        if dist is not None:\n",
    "            gwdist = dist\n",
    "            gwmc = ((gwdist*1.0267e14)/2/(np.pi*freq)**(2/3)*h)**(3/5)/4.9e-6\n",
    "            \n",
    "            \n",
    "        inducedRes = PALutils.createResidualsFast(model.psr, gwtheta, gwphi, gwmc, gwdist,\n",
    "                            freq, gwphase, gwpsi, gwinc, evolve=False, phase_approx=False,\n",
    "                            psrTerm=False)\n",
    "        \n",
    "        # create residuals \n",
    "        residuals = []\n",
    "        for ct,p in enumerate(psr):\n",
    " \n",
    "            # replace residuals in pulsar object\n",
    "            noise = np.random.randn(len(p.residuals)) * np.sqrt(p.Nvec)\n",
    "            residuals.append(np.dot(R[ct], noise+inducedRes[ct]))\n",
    "\n",
    "    \n",
    "        # compute f-statistic\n",
    "        fpstat = model.fpStat(residuals, freq)\n",
    "        \n",
    "        # check to see if larger than in real data\n",
    "        if detect:\n",
    "            if ptSum(npsr, fpstat) < 1e-4:\n",
    "                count += 1\n",
    "        else:\n",
    "            if fpstat > fstat_ref:\n",
    "                count += 1\n",
    "\n",
    "    # now get detection probability\n",
    "    detProb = count/nreal\n",
    "    \n",
    "    #print freq, h, detProb\n",
    "\n",
    "    return detProb - 0.95"
   ]
  },
  {
   "cell_type": "code",
   "execution_count": 21,
   "id": "8786d4fb",
   "metadata": {},
   "outputs": [
    {
     "name": "stdout",
     "output_type": "stream",
     "text": [
      "WARNING: Using seperate Tmax for each pulsar\n",
      "Requested to re-create the Auxiliaries\n",
      "Creating Auxiliaries for J0613-0200\n"
     ]
    }
   ],
   "source": [
    "# set up the pulsar model\n",
    "model = PALmodels.PTAmodels(args.h5file, pulsars=[args.psr])\n",
    "\n",
    "# if including ECORR, use incJitterEquad=True and separateJitterByFreq=True\n",
    "fullmodel = model.makeModelDict(incRedNoise=True, noiseModel='powerlaw',\n",
    "                                separateEfacsByFreq=True, separateEquadsByFreq=True,\n",
    "                                incJitterEquad=True, separateJitterByFreq=True,\n",
    "                                incEquad=True, nfreqs=50, ndmfreqs=50,  likfunc='mark6')\n",
    "\n",
    "model.initModel(fullmodel, memsave=True, fromFile=False, verbose=True, write='no')"
   ]
  },
  {
   "cell_type": "code",
   "execution_count": 22,
   "id": "8df1b7e9",
   "metadata": {},
   "outputs": [],
   "source": [
    "# read in noise model\n",
    "chain = np.loadtxt('{}/chain_1.txt'.format(args.noisedir))\n",
    "burn = int(0.25 * chain.shape[0])\n",
    "# Get MAP parameters\n",
    "maxpars = np.zeros(model.dimensions)\n",
    "for ii in range(model.dimensions):\n",
    "    maxpars[ii] = bu.getMax(chain[burn:,ii])"
   ]
  },
  {
   "cell_type": "code",
   "execution_count": 23,
   "id": "6c4531c4",
   "metadata": {},
   "outputs": [
    {
     "data": {
      "text/plain": [
       "array([8.00000000e-05, 8.06786425e-05, 8.13630420e-05, 8.20532473e-05,\n",
       "       8.27493076e-05, 8.34512726e-05, 8.41591924e-05, 8.48731175e-05,\n",
       "       8.55930988e-05, 8.63191878e-05, 8.70514362e-05, 8.77898963e-05,\n",
       "       8.85346208e-05, 8.92856628e-05, 9.00430759e-05, 9.08069141e-05,\n",
       "       9.15772321e-05, 9.23540846e-05, 9.31375273e-05, 9.39276159e-05,\n",
       "       9.47244068e-05, 9.55279569e-05, 9.63383236e-05, 9.71555647e-05,\n",
       "       9.79797384e-05, 9.88109036e-05, 9.96491197e-05, 1.00494446e-04,\n",
       "       1.01346944e-04, 1.02206673e-04, 1.03073696e-04, 1.03948073e-04,\n",
       "       1.04829868e-04, 1.05719143e-04, 1.06615962e-04, 1.07520388e-04,\n",
       "       1.08432487e-04, 1.09352324e-04, 1.10279963e-04, 1.11215471e-04,\n",
       "       1.12158916e-04, 1.13110363e-04, 1.14069882e-04, 1.15037540e-04,\n",
       "       1.16013407e-04, 1.16997553e-04, 1.17990047e-04, 1.18990960e-04,\n",
       "       1.20000364e-04, 1.21018331e-04, 1.22044933e-04, 1.23080245e-04,\n",
       "       1.24124338e-04, 1.25177289e-04, 1.26239172e-04, 1.27310063e-04,\n",
       "       1.28390038e-04, 1.29479175e-04, 1.30577551e-04, 1.31685244e-04,\n",
       "       1.32802334e-04, 1.33928901e-04, 1.35065024e-04, 1.36210785e-04,\n",
       "       1.37366265e-04, 1.38531547e-04, 1.39706715e-04, 1.40891851e-04,\n",
       "       1.42087041e-04, 1.43292370e-04, 1.44507924e-04, 1.45733789e-04,\n",
       "       1.46970054e-04, 1.48216805e-04, 1.49474133e-04, 1.50742127e-04,\n",
       "       1.52020877e-04, 1.53310475e-04, 1.54611013e-04, 1.55922583e-04,\n",
       "       1.57245279e-04, 1.58579196e-04, 1.59924428e-04, 1.61281072e-04,\n",
       "       1.62649225e-04, 1.64028983e-04, 1.65420446e-04, 1.66823713e-04,\n",
       "       1.68238884e-04, 1.69666060e-04, 1.71105342e-04, 1.72556834e-04,\n",
       "       1.74020639e-04, 1.75496862e-04, 1.76985608e-04, 1.78486982e-04,\n",
       "       1.80001093e-04, 1.81528048e-04, 1.83067956e-04, 1.84620927e-04,\n",
       "       1.86187072e-04, 1.87766503e-04, 1.89359332e-04, 1.90965674e-04,\n",
       "       1.92585642e-04, 1.94219352e-04, 1.95866921e-04, 1.97528466e-04,\n",
       "       1.99204106e-04, 2.00893961e-04, 2.02598151e-04, 2.04316797e-04,\n",
       "       2.06050023e-04, 2.07797952e-04, 2.09560709e-04, 2.11338419e-04,\n",
       "       2.13131209e-04, 2.14939208e-04, 2.16762544e-04, 2.18601348e-04,\n",
       "       2.20455750e-04, 2.22325883e-04, 2.24211880e-04, 2.26113877e-04,\n",
       "       2.28032008e-04, 2.29966411e-04, 2.31917223e-04, 2.33884584e-04,\n",
       "       2.35868635e-04, 2.37869516e-04, 2.39887370e-04, 2.41922343e-04,\n",
       "       2.43974578e-04, 2.46044222e-04, 2.48131423e-04, 2.50236329e-04,\n",
       "       2.52359092e-04, 2.54499862e-04, 2.56658793e-04, 2.58836037e-04,\n",
       "       2.61031752e-04, 2.63246092e-04, 2.65479217e-04, 2.67731286e-04,\n",
       "       2.70002459e-04, 2.72292898e-04, 2.74602767e-04, 2.76932231e-04,\n",
       "       2.79281456e-04, 2.81650610e-04, 2.84039861e-04, 2.86449380e-04,\n",
       "       2.88879339e-04, 2.91329912e-04, 2.93801273e-04, 2.96293598e-04,\n",
       "       2.98807066e-04, 3.01341856e-04, 3.03898148e-04, 3.06476126e-04,\n",
       "       3.09075973e-04, 3.11697874e-04, 3.14342017e-04, 3.17008590e-04,\n",
       "       3.19697784e-04, 3.22409791e-04, 3.25144803e-04, 3.27903017e-04,\n",
       "       3.30684628e-04, 3.33489837e-04, 3.36318842e-04, 3.39171845e-04,\n",
       "       3.42049050e-04, 3.44950663e-04, 3.47876891e-04, 3.50827941e-04,\n",
       "       3.53804026e-04, 3.56805357e-04, 3.59832148e-04, 3.62884615e-04,\n",
       "       3.65962977e-04, 3.69067453e-04, 3.72198264e-04, 3.75355633e-04,\n",
       "       3.78539787e-04, 3.81750952e-04, 3.84989357e-04, 3.88255234e-04,\n",
       "       3.91548816e-04, 3.94870337e-04, 3.98220034e-04, 4.01598148e-04,\n",
       "       4.05004917e-04, 4.08440587e-04, 4.11905401e-04, 4.15399608e-04,\n",
       "       4.18923456e-04, 4.22477197e-04, 4.26061085e-04, 4.29675374e-04,\n",
       "       4.33320324e-04, 4.36996194e-04, 4.40703247e-04, 4.44441746e-04,\n",
       "       4.48211960e-04, 4.52014156e-04, 4.55848606e-04, 4.59715585e-04,\n",
       "       4.63615366e-04, 4.67548230e-04, 4.71514457e-04, 4.75514329e-04,\n",
       "       4.79548132e-04, 4.83616154e-04, 4.87718685e-04, 4.91856018e-04,\n",
       "       4.96028448e-04, 5.00236273e-04, 5.04479794e-04, 5.08759312e-04,\n",
       "       5.13075133e-04, 5.17427566e-04, 5.21816920e-04, 5.26243510e-04,\n",
       "       5.30707650e-04, 5.35209660e-04, 5.39749860e-04, 5.44328576e-04,\n",
       "       5.48946132e-04, 5.53602860e-04, 5.58299090e-04, 5.63035159e-04,\n",
       "       5.67811404e-04, 5.72628166e-04, 5.77485789e-04, 5.82384619e-04,\n",
       "       5.87325007e-04, 5.92307303e-04, 5.97331865e-04, 6.02399050e-04,\n",
       "       6.07509220e-04, 6.12662740e-04, 6.17859978e-04, 6.23101303e-04,\n",
       "       6.28387092e-04, 6.33717719e-04, 6.39093567e-04, 6.44515018e-04,\n",
       "       6.49982459e-04, 6.55496281e-04, 6.61056877e-04, 6.66664643e-04,\n",
       "       6.72319980e-04, 6.78023292e-04, 6.83774985e-04, 6.89575470e-04,\n",
       "       6.95425161e-04, 7.01324474e-04, 7.07273832e-04, 7.13273658e-04,\n",
       "       7.19324381e-04, 7.25426433e-04, 7.31580248e-04, 7.37786267e-04,\n",
       "       7.44044931e-04, 7.50356688e-04, 7.56721987e-04, 7.63141284e-04,\n",
       "       7.69615036e-04, 7.76143705e-04, 7.82727756e-04, 7.89367661e-04,\n",
       "       7.96063891e-04, 8.02816927e-04, 8.09627248e-04, 8.16495342e-04,\n",
       "       8.23421698e-04, 8.30406810e-04, 8.37451177e-04, 8.44555302e-04,\n",
       "       8.51719692e-04, 8.58944857e-04, 8.66231313e-04, 8.73579581e-04,\n",
       "       8.80990184e-04, 8.88463652e-04, 8.96000517e-04, 9.03601318e-04,\n",
       "       9.11266597e-04, 9.18996900e-04, 9.26792780e-04, 9.34654792e-04,\n",
       "       9.42583499e-04, 9.50579464e-04, 9.58643260e-04, 9.66775461e-04,\n",
       "       9.74976648e-04, 9.83247406e-04, 9.91588325e-04, 1.00000000e-03])"
      ]
     },
     "execution_count": 23,
     "metadata": {},
     "output_type": "execute_result"
    }
   ],
   "source": [
    "# begin Fp statistic calculations\n",
    "\n",
    "fmin = fmin # These were defined earlier, just reminding you :)\n",
    "fmax = fmax\n",
    "nf = 300\n",
    "fvec = np.logspace(np.log10(fmin), np.log10(fmax), nf)\n",
    "fvec"
   ]
  },
  {
   "cell_type": "code",
   "execution_count": 24,
   "id": "c85b485b",
   "metadata": {},
   "outputs": [
    {
     "data": {
      "text/plain": [
       "-7426.859082390995"
      ]
     },
     "execution_count": 24,
     "metadata": {},
     "output_type": "execute_result"
    }
   ],
   "source": [
    "# initialize noise parameters in the model\n",
    "model.setPsrNoise(maxpars)\n",
    "model.updateTmatrix(maxpars)\n",
    "model.mark6LogLikelihood(maxpars, incJitter=True)"
   ]
  },
  {
   "cell_type": "code",
   "execution_count": 25,
   "id": "32dddf45",
   "metadata": {},
   "outputs": [],
   "source": [
    "# get the Fp stats for the data\n",
    "fp = np.zeros(nf)\n",
    "for ii in range(nf):\n",
    "    fp[ii] = model.fpStat([model.psr[0].residuals], fvec[ii])\n",
    "\n",
    "np.savetxt(args.outdir + \"{}_FpStat.txt\".format(args.run_name), (fvec, fp))"
   ]
  },
  {
   "cell_type": "code",
   "execution_count": 26,
   "id": "09221d04",
   "metadata": {},
   "outputs": [
    {
     "data": {
      "text/plain": [
       "-7426.859082390995"
      ]
     },
     "execution_count": 26,
     "metadata": {},
     "output_type": "execute_result"
    }
   ],
   "source": [
    "# first create projection matrix and run likelihood to set noise covariance matrices\n",
    "R = [PALutils.createRmatrix(p.Mmat, np.sqrt(p.Nvec)) for p in model.psr]\n",
    "model.mark6LogLikelihood(maxpars, incJitter=True)"
   ]
  },
  {
   "cell_type": "code",
   "execution_count": 27,
   "id": "40b24a95",
   "metadata": {},
   "outputs": [
    {
     "name": "stdout",
     "output_type": "stream",
     "text": [
      "Starting upper limit analysis\n",
      "50\n"
     ]
    }
   ],
   "source": [
    "## THE HEART OF THE CODE ##\n",
    "# simulate sources using upperLimitFunc, \n",
    "# ramping up the strain amplitude until a 95% detection rate is passed\n",
    "\n",
    "print \"Starting upper limit analysis\"\n",
    "\n",
    "nf = args.frqres\n",
    "print(nf)\n",
    "nreal = args.nreal         #should be at least 1000\n",
    "maxstrain = 5e-7     #chosen scientifically arbitrarily\n",
    "fvec = np.logspace(np.log10(fmin), np.log10(fmax), nf)\n",
    "h_up = np.zeros(nf)"
   ]
  },
  {
   "cell_type": "code",
   "execution_count": null,
   "id": "28b59fff",
   "metadata": {},
   "outputs": [],
   "source": [
    "for ii in range(nf):\n",
    "    hlow = 1e-14\n",
    "    hhigh = 1e-9\n",
    "    xtol = 1e-14\n",
    "    fp = model.fpStat([model.psr[0].residuals], fvec[ii])\n",
    "    inRange = False\n",
    "    while not inRange:\n",
    "        try:\n",
    "            h_up[ii] = brentq(upperLimitFunc, hlow, hhigh, xtol=xtol,\n",
    "                              args=(model.psr, R, fp, fvec[ii], nreal))\n",
    "            inRange = True\n",
    "        except ValueError:\n",
    "            if hhigh < maxstrain:\n",
    "                hhigh *= 2\n",
    "            else:\n",
    "                h_up[ii] = hhigh\n",
    "                inRange = True\n",
    "    \n",
    "    print('[{0} percent]Upper limit at {1} = {2}'.format((ii*100)/(nf), fvec[ii], h_up[ii]))"
   ]
  },
  {
   "cell_type": "code",
   "execution_count": null,
   "id": "c23b1188",
   "metadata": {},
   "outputs": [],
   "source": [
    "run_name = \"\"\n",
    "if hasattr(args, 'run_name'):\n",
    "    run_name = args.run_name\n",
    "else:\n",
    "    run_name = 'PSR' + args.psr + '_' + str(args.frqres) + 'sample'\n",
    "\n",
    "print \"run name: {}\".format(args.run_name)\n",
    "\n",
    "# save the limit curve to this directory\n",
    "np.savetxt(args.outdir + '{}.txt'.format(run_name), (fvec, h_up))\n"
   ]
  }
 ],
 "metadata": {
  "kernelspec": {
   "display_name": "Python [conda env:python2]",
   "language": "python",
   "name": "conda-env-python2-py"
  },
  "language_info": {
   "codemirror_mode": {
    "name": "ipython",
    "version": 2
   },
   "file_extension": ".py",
   "mimetype": "text/x-python",
   "name": "python",
   "nbconvert_exporter": "python",
   "pygments_lexer": "ipython2",
   "version": "2.7.15"
  }
 },
 "nbformat": 4,
 "nbformat_minor": 5
}
